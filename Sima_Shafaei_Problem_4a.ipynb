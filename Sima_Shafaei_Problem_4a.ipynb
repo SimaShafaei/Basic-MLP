{
 "cells": [
  {
   "cell_type": "code",
   "execution_count": 77,
   "metadata": {},
   "outputs": [],
   "source": [
    "#************************#  \n",
    "#* Sima Shafaei         *# \n",
    "#* CECS 590-01          *#  \n",
    "#* Assignment 1         *#  \n",
    "#************************# "
   ]
  },
  {
   "cell_type": "code",
   "execution_count": 77,
   "metadata": {},
   "outputs": [],
   "source": [
    "import numpy as np\n",
    "import matplotlib.pyplot as plt"
   ]
  },
  {
   "cell_type": "code",
   "execution_count": 78,
   "metadata": {},
   "outputs": [],
   "source": [
    "def dataGeneration1(mu, sigma, num ):\n",
    "    n=0\n",
    "    x=np.zeros((num,2))\n",
    "    while n<num:\n",
    "        r=np.random.normal(mu, sigma , 1)\n",
    "        if 0<=r<=0.5:\n",
    "            x[n,0]=r\n",
    "            n+=1\n",
    "    n=0\n",
    "    while n<num:\n",
    "        r=np.random.normal(mu, sigma , 1)\n",
    "        if 0<=r<=0.5:\n",
    "            x[n,1]=r\n",
    "            n+=1\n",
    "    return x  "
   ]
  },
  {
   "cell_type": "code",
   "execution_count": 79,
   "metadata": {},
   "outputs": [],
   "source": [
    "def dataGeneration2(mu, sigma, num ):\n",
    "    n=0\n",
    "    x=np.zeros((num,2))\n",
    "    while n<num:\n",
    "        r1=np.random.normal(mu, sigma , 1)\n",
    "        r2=np.random.normal(mu, sigma , 1)\n",
    "        if (r1>0.5 or r2>0.5) and r1<=1 and r2<=1:\n",
    "            x[n,0]=r1\n",
    "            x[n,1]=r2\n",
    "            n+=1\n",
    "    return x     "
   ]
  },
  {
   "cell_type": "code",
   "execution_count": 80,
   "metadata": {},
   "outputs": [
    {
     "data": {
      "image/png": "[encoded data removed]",
      "text/plain": [
       "<Figure size 432x288 with 1 Axes>"
      ]
     },
     "metadata": {
      "needs_background": "light"
     },
     "output_type": "display_data"
    }
   ],
   "source": [
    "#data generation\n",
    "x1=dataGeneration1(0.5, 0.08**0.5, 100)\n",
    "shp=(200,2)\n",
    "d=np.zeros(shp)\n",
    "shp=(200,1)\n",
    "target=np.zeros(shp)\n",
    "plt.scatter(x1[:,0],x1[:,1],c='red')\n",
    "for i in range (100):\n",
    "    d[i,0]=x1[i,0]\n",
    "    d[i,1]=x1[i,1]\n",
    "    target[i,0]=0\n",
    "\n",
    "\n",
    "x2=dataGeneration2(0.5, 0.08**0.5, 100)\n",
    "plt.scatter(x2[:,0],x2[:,1],c='blue')\n",
    "for i in range (100):\n",
    "    d[i+100,0]=x2[i,0]\n",
    "    d[i+100,1]=x2[i,1]\n",
    "    target[i,0]=1"
   ]
  },
  {
   "cell_type": "code",
   "execution_count": 81,
   "metadata": {},
   "outputs": [],
   "source": [
    "def tanh(x):\n",
    "    t=(np.exp(x)-np.exp(-x))/(np.exp(x)+np.exp(-x))\n",
    "    return t\n",
    "\n",
    "def d_tanh(x):\n",
    "    t=(np.exp(x)-np.exp(-x))/(np.exp(x)+np.exp(-x))\n",
    "    dt=1-t**2\n",
    "    return dt\n",
    "\n",
    "def sigmoid(x):\n",
    "    return 1/(1+np.exp(-x))\n",
    "\n",
    "def d_sigmoid(x):\n",
    "    return np.exp(-x)/((1+np.exp(-x))**2)\n"
   ]
  },
  {
   "cell_type": "code",
   "execution_count": 82,
   "metadata": {},
   "outputs": [],
   "source": [
    "class NeuralNetwork:\n",
    "    def __init__(self, x, y,hiddenNode,epoch,alpha):\n",
    "        \n",
    "        self.input      = x\n",
    "        self.weights1   =np.random.rand(self.input.shape[1],hiddenNode) \n",
    "   \n",
    "        self.weights2   =np.random.rand(hiddenNode,1)                 \n",
    "        self.y          = y\n",
    "        self.output     = np.zeros(self.y.shape)\n",
    "        self.alpha      = alpha\n",
    "        self.epoch      = epoch\n",
    "    def feedforward(self):\n",
    "        self.z2=np.dot(self.input, self.weights1)\n",
    "        self.y_hat2 = tanh(self.z2) #sigmoid(self.z2)\n",
    "        self.z3=np.dot(self.y_hat2, self.weights2)\n",
    "        self.y_hat3 = tanh(self.z3)#sigmoid(self.z3)\n",
    "        self.error=1/self.input.shape[0] * sum(0.5 *(self.y-self.y_hat3)**2)\n",
    "    def backproppagation(self):        \n",
    "        d_weights2 = np.dot(self.y_hat2.T, (self.alpha*(self.y - self.y_hat3) * \n",
    "                                            d_tanh(self.z3)))\n",
    "        d_weights1 = np.dot(self.input.T,  np.dot(self.alpha*(self.y - self.y_hat3) *\n",
    "                                                  d_tanh(self.z3), self.weights2.T) * \n",
    "                                                  d_tanh(self.z2))\n",
    "        \n",
    "        self.weights1 += d_weights1\n",
    "        self.weights2 += d_weights2\n",
    "        \n",
    "    def fit(self):\n",
    "        err= np.zeros(self.epoch)\n",
    "        for k in range(self.epoch):\n",
    "            self.feedforward()\n",
    "            self.backproppagation()\n",
    "            err[k]=self.error\n",
    "        #plt.figure()\n",
    "        #plt.plot(err)\n",
    "        return err \n",
    "    \n",
    "    def test(self,test_data,test_output):\n",
    "        z2=np.dot(test_data, self.weights1)\n",
    "        test_y_hat2 = tanh(z2)\n",
    "        z3=np.dot(test_y_hat2, self.weights2)\n",
    "        test_y_hat3 = tanh(z3)\n",
    "        error=1/test_data.shape[0] * sum(0.5 *(test_output-test_y_hat3)**2)\n",
    "        #plt.figure()\n",
    "        TP=FP=FN=TN=0\n",
    "        for i in range(len(y_test)) :\n",
    "            if test_output[i]==0 and abs(test_y_hat3[i])<=0.5:\n",
    "                #plt.scatter(test_data[i,0],test_data[i,1],c='green')\n",
    "                TN+=1\n",
    "            elif test_output[i]==0 and abs(test_y_hat3[i])>0.5:\n",
    "                #plt.scatter(test_data[i,0],test_data[i,1],c='red')\n",
    "                FN+=1\n",
    "            elif test_output[i]==1 and abs(test_y_hat3[i])>=0.5:\n",
    "                #plt.scatter(test_data[i,0],test_data[i,1],c='blue')\n",
    "                TP+=1\n",
    "            elif test_output[i]==1 and abs(test_y_hat3[i])<0.5:\n",
    "                #plt.scatter(test_data[i,0],test_data[i,1],c='yellow')\n",
    "                FP+=1\n",
    "        print((TN+TP)/(TN+TP+FP+FN))\n",
    "        return error,(TN+TP)/(TN+TP+FP+FN)\n",
    "    "
   ]
  },
  {
   "cell_type": "code",
   "execution_count": 83,
   "metadata": {},
   "outputs": [],
   "source": [
    "from sklearn.model_selection import train_test_split\n",
    "X_train, X_test, y_train, y_test = train_test_split(d, target, test_size=0.2)"
   ]
  },
  {
   "cell_type": "code",
   "execution_count": 84,
   "metadata": {},
   "outputs": [
    {
     "name": "stdout",
     "output_type": "stream",
     "text": [
      "0.875\n",
      "(array([0.06019441]), 0.875)\n"
     ]
    }
   ],
   "source": [
    "nn=NeuralNetwork(X_train,y_train,5,150,0.01)\n",
    "train_err=nn.fit()\n",
    "test_err=nn.test(X_test,y_test)\n",
    "print(test_err)"
   ]
  },
  {
   "cell_type": "code",
   "execution_count": 85,
   "metadata": {},
   "outputs": [
    {
     "name": "stdout",
     "output_type": "stream",
     "text": [
      "0.15\n",
      "0.175\n",
      "0.15\n",
      "0.2\n",
      "0.5\n",
      "0.725\n",
      "0.15\n",
      "0.85\n",
      "0.575\n",
      "0.85\n",
      "0.875\n",
      "0.9\n",
      "0.9\n",
      "0.9\n",
      "0.85\n",
      "0.875\n",
      "0.85\n",
      "0.875\n",
      "0.85\n",
      "0.85\n",
      "0.85\n",
      "0.85\n",
      "0.85\n",
      "0.85\n",
      "0.85\n",
      "0.85\n",
      "0.85\n",
      "0.9\n",
      "0.85\n",
      "0.85\n",
      "0.875\n",
      "0.85\n",
      "0.85\n",
      "0.85\n",
      "0.85\n",
      "0.85\n",
      "0.85\n",
      "0.85\n",
      "0.85\n",
      "0.85\n",
      "0.875\n",
      "0.875\n",
      "0.875\n",
      "0.85\n",
      "0.875\n",
      "0.875\n",
      "0.675\n",
      "0.85\n",
      "0.9\n",
      "0.85\n"
     ]
    },
    {
     "data": {
      "text/plain": [
       "[<matplotlib.lines.Line2D at 0x2d6a6c32898>]"
      ]
     },
     "execution_count": 85,
     "metadata": {},
     "output_type": "execute_result"
    },
    {
     "data": {
      "image/png": "[encoded data removed]",
      "text/plain": [
       "<Figure size 432x288 with 1 Axes>"
      ]
     },
     "metadata": {
      "needs_background": "light"
     },
     "output_type": "display_data"
    },
    {
     "data": {
      "image/png": "[encoded data removed]",
      "text/plain": [
       "<Figure size 432x288 with 1 Axes>"
      ]
     },
     "metadata": {
      "needs_background": "light"
     },
     "output_type": "display_data"
    }
   ],
   "source": [
    "# learn the model:               \n",
    "trn_err=[]\n",
    "test_err=[] \n",
    "test_acuracy=[]\n",
    "for i,e in enumerate(range(5,500,10)):\n",
    "    nn=NeuralNetwork(X_train,y_train,3,e,0.01)\n",
    "    train_err=nn.fit()\n",
    "    trn_err.append(train_err[e-1])\n",
    "    err,acuracy=nn.test(X_test,y_test)\n",
    "    test_err.append(err)\n",
    "    test_acuracy.append(acuracy)\n",
    "\n",
    "plt.figure()\n",
    "e=range(5,500,10)\n",
    "plt.plot(e,trn_err,'b')\n",
    "plt.plot(e,test_err,'g')\n",
    "plt.figure()\n",
    "plt.plot(e,test_acuracy,'b')"
   ]
  },
  {
   "cell_type": "code",
   "execution_count": null,
   "metadata": {},
   "outputs": [],
   "source": []
  },
  {
   "cell_type": "code",
   "execution_count": null,
   "metadata": {},
   "outputs": [],
   "source": []
  },
  {
   "cell_type": "code",
   "execution_count": null,
   "metadata": {},
   "outputs": [],
   "source": []
  },
  {
   "cell_type": "code",
   "execution_count": null,
   "metadata": {},
   "outputs": [],
   "source": []
  }
 ],
 "metadata": {
  "kernelspec": {
   "display_name": "Python 3",
   "language": "python",
   "name": "python3"
  },
  "language_info": {
   "codemirror_mode": {
    "name": "ipython",
    "version": 3
   },
   "file_extension": ".py",
   "mimetype": "text/x-python",
   "name": "python",
   "nbconvert_exporter": "python",
   "pygments_lexer": "ipython3",
   "version": "3.7.3"
  }
 },
 "nbformat": 4,
 "nbformat_minor": 4
}
